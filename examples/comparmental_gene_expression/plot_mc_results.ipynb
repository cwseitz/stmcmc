{
 "cells": [
  {
   "cell_type": "code",
   "execution_count": 2,
   "metadata": {},
   "outputs": [],
   "source": [
    "import numpy as np\n",
    "import seaborn as sns\n",
    "import matplotlib.pyplot as plt\n",
    "# from repressilator_model import RepressilatorModel as Model\n",
    "from ipywidgets import interact, interactive, IntSlider"
   ]
  },
  {
   "cell_type": "code",
   "execution_count": 8,
   "metadata": {},
   "outputs": [],
   "source": [
    "stmc_res = np.load('gene_expression_3_mcmc_multifi.npz')"
   ]
  },
  {
   "cell_type": "code",
   "execution_count": 9,
   "metadata": {},
   "outputs": [
    {
     "data": {
      "application/vnd.jupyter.widget-view+json": {
       "model_id": "ffe164184b2144d48449f16661a84527",
       "version_major": 2,
       "version_minor": 0
      },
      "text/plain": [
       "interactive(children=(IntSlider(value=0, description='ipar', max=7), Output()), _dom_classes=('widget-interact…"
      ]
     },
     "metadata": {},
     "output_type": "display_data"
    },
    {
     "data": {
      "text/plain": [
       "<function __main__.plot_sample_distributions(ipar=0)>"
      ]
     },
     "execution_count": 9,
     "metadata": {},
     "output_type": "execute_result"
    }
   ],
   "source": [
    "thetas = stmc_res['theta']\n",
    "maxlevel = thetas.shape[2]-1\n",
    "iparslider = IntSlider(value=0, min=0, max=7, title='Parameter')\n",
    "\n",
    "k01 = 10.0**(-2.52)\n",
    "k12 = 10.0**(-3.1)\n",
    "k10 = 10.0**(-2.22)\n",
    "k21 = 10.0**(-1.5)\n",
    "kr1 = 10.0 ** (1.76e-1)\n",
    "kr2 = 10.0 ** (2.5e-1)\n",
    "trans = 10.0 ** (-2.0)\n",
    "gamma_cyt = 10.0 ** (-2.52)\n",
    "\n",
    "theta_true = np.array([k01, k12, k10, k21, kr1, kr2, trans, gamma_cyt])\n",
    "\n",
    "def plot_sample_distributions(ipar=0):\n",
    "    fig, ax = plt.subplots(1,1)\n",
    "    sns.distplot(thetas[:, ipar, 0], ax=ax, color='r', label='Prior')\n",
    "    sns.distplot(thetas[:, ipar, maxlevel], ax=ax, label='Final')\n",
    "    ax.axvline(np.log10(theta_true[ipar]), color='k', label='True')\n",
    "    ax.set_xlabel('log10(theta)')\n",
    "    ax.set_ylabel('posterior density')\n",
    "    ax.legend()\n",
    "    \n",
    "interact(plot_sample_distributions, ipar=iparslider)"
   ]
  },
  {
   "cell_type": "code",
   "execution_count": 5,
   "metadata": {},
   "outputs": [],
   "source": [
    "stmc_res.close()"
   ]
  }
 ],
 "metadata": {
  "kernelspec": {
   "display_name": "CME",
   "language": "python",
   "name": "cme"
  },
  "language_info": {
   "codemirror_mode": {
    "name": "ipython",
    "version": 3
   },
   "file_extension": ".py",
   "mimetype": "text/x-python",
   "name": "python",
   "nbconvert_exporter": "python",
   "pygments_lexer": "ipython3",
   "version": "3.7.4"
  }
 },
 "nbformat": 4,
 "nbformat_minor": 2
}
