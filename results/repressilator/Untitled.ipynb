{
 "cells": [
  {
   "cell_type": "code",
   "execution_count": 1,
   "metadata": {},
   "outputs": [],
   "source": [
    "import numpy as np\n",
    "import seaborn as sns\n",
    "import matplotlib.pyplot as plt\n",
    "from repressilator_model import RepressilatorModel as Model\n",
    "from ipywidgets import interact, interactive, IntSlider"
   ]
  },
  {
   "cell_type": "code",
   "execution_count": 2,
   "metadata": {},
   "outputs": [],
   "source": [
    "stmc_res = np.load('repressilator_mcmc_multifi.npz')"
   ]
  },
  {
   "cell_type": "code",
   "execution_count": 3,
   "metadata": {},
   "outputs": [
    {
     "data": {
      "application/vnd.jupyter.widget-view+json": {
       "model_id": "fa3314339d7f4e0aa9d9452d14c0bdb5",
       "version_major": 2,
       "version_minor": 0
      },
      "text/plain": [
       "interactive(children=(IntSlider(value=0, description='ipar', max=11), Output()), _dom_classes=('widget-interac…"
      ]
     },
     "metadata": {},
     "output_type": "display_data"
    },
    {
     "data": {
      "text/plain": [
       "<function __main__.plot_sample_distributions(ipar=0)>"
      ]
     },
     "execution_count": 3,
     "metadata": {},
     "output_type": "execute_result"
    }
   ],
   "source": [
    "thetas = stmc_res['theta']\n",
    "maxlevel = thetas.shape[2]-1\n",
    "iparslider = IntSlider(value=0, min=0, max=11)\n",
    "\n",
    "def plot_sample_distributions(ipar=0):\n",
    "    fig, ax = plt.subplots(1,1)\n",
    "    sns.distplot(thetas[:, ipar, 0], ax=ax, color='r', label='Prior')\n",
    "    sns.distplot(thetas[:, ipar, maxlevel], ax=ax, label='Final')\n",
    "    ax.axvline(np.log10(Model.theta_true[ipar]), color='k', label='True')\n",
    "    ax.set_xlabel('log10(theta)')\n",
    "    ax.set_ylabel('posterior density')\n",
    "    ax.legend()\n",
    "    \n",
    "interact(plot_sample_distributions, ipar=iparslider)"
   ]
  },
  {
   "cell_type": "code",
   "execution_count": 4,
   "metadata": {},
   "outputs": [],
   "source": [
    "stmc_res.close()"
   ]
  }
 ],
 "metadata": {
  "kernelspec": {
   "display_name": "CME",
   "language": "python",
   "name": "cme"
  },
  "language_info": {
   "codemirror_mode": {
    "name": "ipython",
    "version": 3
   },
   "file_extension": ".py",
   "mimetype": "text/x-python",
   "name": "python",
   "nbconvert_exporter": "python",
   "pygments_lexer": "ipython3",
   "version": "3.7.4"
  }
 },
 "nbformat": 4,
 "nbformat_minor": 2
}
