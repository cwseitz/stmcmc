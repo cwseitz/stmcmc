{
 "cells": [
  {
   "cell_type": "code",
   "execution_count": 6,
   "metadata": {},
   "outputs": [],
   "source": [
    "import sys\n",
    "sys.path.append('../../examples/inflammation')\n",
    "import numpy as np\n",
    "import matplotlib.pyplot as plt\n",
    "import seaborn as sns\n",
    "from scipy.io import loadmat\n",
    "import scipy.stats\n",
    "import mpi4py.MPI as mpi"
   ]
  },
  {
   "cell_type": "code",
   "execution_count": 3,
   "metadata": {},
   "outputs": [],
   "source": [
    "with np.load('il1b_data.npz', allow_pickle=True) as datfile:\n",
    "    data = datfile['mrna_counts']"
   ]
  },
  {
   "cell_type": "code",
   "execution_count": 82,
   "metadata": {},
   "outputs": [],
   "source": [
    "methods = ['full', 'bridge', 'multi', 'tuned']\n",
    "method_names = ['Full-fidelity', 'ESS-Bridge', 'IT-Bridge', 'Tuned IT-Bridge']\n",
    "par_names = ['r_1', 'r_2', \n",
    "             'k_{{01}}', 'a_{{10}}', 'b_{{10}}', 'k_{{12}}', 'k_{{21}}', '\\\\alpha_1', '\\\\alpha_2', '\\\\gamma', 'T_0']\n",
    "method_colors = ['Red', 'Orange', 'DarkGreen', 'Magenta']\n",
    "method_ls = ['--', ':', '-', 'dotted']"
   ]
  },
  {
   "cell_type": "code",
   "execution_count": 40,
   "metadata": {},
   "outputs": [],
   "source": [
    "for imeth in range(0, len(methods)):\n",
    "    with np.load(f'il1b_prediction_{methods[imeth]}.npz', allow_pickle=True) as pred_file:\n",
    "        exec(f'mean_{methods[imeth]} = pred_file[\"mean\"]')\n",
    "        exec(f'std_{methods[imeth]} = pred_file[\"std\"]')"
   ]
  },
  {
   "cell_type": "code",
   "execution_count": 41,
   "metadata": {},
   "outputs": [
    {
     "name": "stdout",
     "output_type": "stream",
     "text": [
      "[[0.07272009 0.04818968 0.04153508 ... 0.7421011  0.79103058 0.77775492]\n",
      " [0.08507732 0.0427628  0.04271076 ... 0.2440385  0.24422937 0.34161512]\n",
      " [0.11120189 0.0466013  0.04571114 ... 0.44445695 0.48807555 0.19853523]\n",
      " [0.10736805 0.04588574 0.04622411 ... 0.25119804 0.2874883  0.19933364]\n",
      " [0.10075994 0.0451708  0.04666369 ... 0.38582867 0.4129881  0.19920209]]\n"
     ]
    },
    {
     "data": {
      "text/plain": [
       "5.000000173138376"
      ]
     },
     "execution_count": 41,
     "metadata": {},
     "output_type": "execute_result"
    }
   ],
   "source": [
    "print(std_bridge/mean_bridge)\n",
    "np.sum(mean_bridge)"
   ]
  },
  {
   "cell_type": "code",
   "execution_count": 83,
   "metadata": {},
   "outputs": [
    {
     "data": {
      "text/plain": [
       "(5, 2059)"
      ]
     },
     "execution_count": 83,
     "metadata": {},
     "output_type": "execute_result"
    },
    {
     "data": {
      "image/png": "[encoded data removed]",
      "text/plain": [
       "<Figure size 432x216 with 2 Axes>"
      ]
     },
     "metadata": {},
     "output_type": "display_data"
    }
   ],
   "source": [
    "T_MEASUREMENTS = np.array([0, 0.5, 1, 2, 4])\n",
    "\n",
    "tidx_to_plot = [0, 4]\n",
    "\n",
    "sns.set(style='darkgrid')\n",
    "fig, axes = plt.subplots(1, len(tidx_to_plot))\n",
    "fig.set_tight_layout(True)\n",
    "fig.set_size_inches(6, 3)\n",
    "# rna_bins = np.concatenate((np.array([0, 16]), np.linspace(16, 1000, 100)))\n",
    "# rna_bins = np.logspace(-8, 3, 100)\n",
    "rna_bins = np.arange(0, 1000)\n",
    "for i in range(0, len(tidx_to_plot)):\n",
    "        j = tidx_to_plot[i]\n",
    "        sns.distplot(data[j], ax=axes[i], norm_hist=True, kde=False, label=\"Data\", \n",
    "                     color=\"DarkBlue\", hist_kws={'alpha': 1})\n",
    "  \n",
    "        for imeth in range(0, len(methods)):\n",
    "            meanvec = eval(f'mean_{methods[imeth]}[{j}, :]')\n",
    "            stdvec = eval(f'std_{methods[imeth]}[{j}, :]')\n",
    "            nmax = len(meanvec)\n",
    "            axes[i].plot(np.arange(0, nmax), meanvec, color=method_colors[imeth], label=method_names[imeth], \n",
    "                         linewidth=2, drawstyle='steps-post')        \n",
    "            axes[i].fill_between(np.arange(0, nmax), meanvec + 3*stdvec, \n",
    "                             meanvec - 3*stdvec,\n",
    "                            color=method_colors[imeth], alpha=0.25, label='', zorder=2)\n",
    "\n",
    "                \n",
    "        axes[i].set_ylabel('Probability')\n",
    "        axes[i].set_xlabel('RNA copy number')\n",
    "        axes[i].set_title(f't = {T_MEASUREMENTS[j]} hr')\n",
    "\n",
    "axes[0].set_xlim([0, 200])        \n",
    "axes[1].set_xlim([0, 500])\n",
    "h, l = axes[-1].get_legend_handles_labels()\n",
    "fig.legend(h, l, bbox_to_anchor=(0, 1, 1, 1), loc='lower center', ncol = 2)\n",
    "fig.savefig('il1b_fits.pdf', bbox_inches='tight')    \n",
    "mean_bridge.shape"
   ]
  }
 ],
 "metadata": {
  "kernelspec": {
   "display_name": "CME",
   "language": "python",
   "name": "cme"
  },
  "language_info": {
   "codemirror_mode": {
    "name": "ipython",
    "version": 3
   },
   "file_extension": ".py",
   "mimetype": "text/x-python",
   "name": "python",
   "nbconvert_exporter": "python",
   "pygments_lexer": "ipython3",
   "version": "3.7.4"
  }
 },
 "nbformat": 4,
 "nbformat_minor": 2
}
